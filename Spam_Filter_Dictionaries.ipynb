{
 "cells": [
  {
   "cell_type": "code",
   "execution_count": 1,
   "metadata": {
    "collapsed": true
   },
   "outputs": [],
   "source": [
    "import os\n",
    "spam_folder_path = \"/Users/George/Documents/PhD/Python/spam\"\n",
    "easy_ham_folder_path = \"/Users/George/Documents/PhD/Python/easy_ham\"\n",
    "spam_email_list = os.listdir(spam_folder_path)\n",
    "easy_ham_email_list = os.listdir(easy_ham_folder_path)"
   ]
  },
  {
   "cell_type": "code",
   "execution_count": 2,
   "metadata": {
    "collapsed": false
   },
   "outputs": [
    {
     "name": "stdout",
     "output_type": "stream",
     "text": [
      "{'those', 'there', 'further', \"wasn't\", 'been', 'these', 'theirs', \"what's\", \"i'll\", 'them', 'himself', 'you', 'no', \"you're\", 'if', 'myself', 'he', 'then', 'cannot', \"doesn't\", 'other', 'doing', 'from', 'where', 'while', \"mustn't\", 'because', 'or', 'too', 'between', \"they've\", 'she', 'who', \"where's\", 'with', 'herself', 'under', \"hadn't\", 'but', 'than', \"didn't\", 'what', \"why's\", \"they'll\", 'again', \"she's\", 'down', 'at', \"haven't\", 'its', 'itself', 'against', 'here', \"when's\", 'could', 'hers', \"we're\", 'when', \"can't\", \"he'd\", 'i', 'in', 'are', \"let's\", 'have', \"wouldn't\", 'whom', 'own', 'yourselves', 'having', \"aren't\", 'during', 'few', 'most', 'why', 'out', 'him', 'such', 'was', \"shouldn't\", 'were', 'being', 'once', \"they'd\", \"we've\", \"he's\", \"that's\", 'about', 'into', 'his', 'do', 'had', 'your', \"i'm\", \"won't\", 'to', 'themselves', 'am', 'before', 'on', \"hasn't\", \"there's\", \"we'd\", 'as', 'until', 'each', 'ours\\tourselves', 'through', 'a', 'our', 'by', \"couldn't\", 'more', 'this', 'above', \"how's\", 'yourself', \"you've\", \"it's\", 'nor', 'yours', \"she'll\", 'same', 'did', 'both', 'has', 'we', 'only', 'very', 'over', 'their', \"she'd\", \"who's\", 'be', 'and', 'me', 'all', \"i've\", \"shan't\", 'the', \"here's\", 'not', 'her', 'for', 'some', 'below', \"isn't\", 'of', 'does', 'they', \"they're\", 'any', 'an', 'so', \"i'd\", \"you'd\", \"you'll\", 'would', 'after', \"weren't\", 'it', 'ought', 'that', 'how', 'which', 'up', \"we'll\", 'off', 'should', 'my', \"don't\", \"he'll\", 'is'}\n"
     ]
    }
   ],
   "source": [
    "filename = open('stop_words.txt', 'r')\n",
    "stopwords = set()\n",
    "for word in filename: \n",
    "    stopwords.add(word.strip().lower())\n",
    "        \n",
    "print(stopwords)\n",
    "\n"
   ]
  },
  {
   "cell_type": "code",
   "execution_count": 8,
   "metadata": {
    "collapsed": false
   },
   "outputs": [],
   "source": [
    "def GetDictionaryAndCountForEmails(email_list, folder_path):\n",
    "    words = {}\n",
    "    for email in email_list:\n",
    "        email_doc = open(folder_path + '/'+ email, 'r', encoding= 'UTF-8',  errors=\"surrogateescape\")\n",
    "        for line in email_doc:\n",
    "            for word in line.strip().split():\n",
    "                word = word.lower()\n",
    "                if ((word in stopwords) == 1) or ('<' in word):\n",
    "                    continue\n",
    "                if word not in words:\n",
    "                    words[word] = 1\n",
    "                else:\n",
    "                    words[word] = words[word] + 1\n",
    "    return words"
   ]
  },
  {
   "cell_type": "code",
   "execution_count": 9,
   "metadata": {
    "collapsed": true
   },
   "outputs": [],
   "source": [
    "def GetNewEmptyDictionary(words):\n",
    "    dictionary_list = words.keys()\n",
    "    dictionary = {}\n",
    "    for word in dictionary_list:\n",
    "        dictionary[word] = 0\n",
    "    return dictionary"
   ]
  },
  {
   "cell_type": "code",
   "execution_count": 10,
   "metadata": {
    "collapsed": true
   },
   "outputs": [],
   "source": [
    "def GetUniqueDictionary(email_list, folder_path):\n",
    "    dictionary_ = {}\n",
    "    for email in email_list:\n",
    "        email_doc = open(folder_path + '/'+ email, 'r', encoding= 'UTF-8',  errors=\"surrogateescape\")\n",
    "        dictionary_[email] = GetNewEmptyDictionary(words)\n",
    "        for line in email_doc:\n",
    "            for word in line.strip().split():\n",
    "                word = word.lower()\n",
    "                if ((word in stopwords) == 1) or ('<' in word):\n",
    "                    continue\n",
    "                dictionary_[email][word] += 1\n",
    "    return dictionary_"
   ]
  },
  {
   "cell_type": "code",
   "execution_count": 20,
   "metadata": {
    "collapsed": false
   },
   "outputs": [],
   "source": [
    "# All words\n",
    "words = GetDictionaryAndCountForEmails(spam_email_list, spam_folder_path)\n",
    "words.update( GetDictionaryAndCountForEmails(easy_ham_email_list, easy_ham_folder_path))\n",
    "\n"
   ]
  },
  {
   "cell_type": "code",
   "execution_count": 21,
   "metadata": {
    "collapsed": false
   },
   "outputs": [
    {
     "name": "stdout",
     "output_type": "stream",
     "text": [
      "119901\n"
     ]
    }
   ],
   "source": [
    "print(len(words))"
   ]
  },
  {
   "cell_type": "code",
   "execution_count": 22,
   "metadata": {
    "collapsed": true
   },
   "outputs": [],
   "source": [
    "# All words in spam, and all words in non-spam\n",
    "all_words_from_spam     = GetDictionaryAndCountForEmails(spam_email_list, spam_folder_path)\n",
    "all_words_from_easy_ham = GetDictionaryAndCountForEmails(easy_ham_email_list, easy_ham_folder_path)"
   ]
  },
  {
   "cell_type": "code",
   "execution_count": 23,
   "metadata": {
    "collapsed": false
   },
   "outputs": [
    {
     "name": "stdout",
     "output_type": "stream",
     "text": [
      "42668\n",
      "86108\n"
     ]
    }
   ],
   "source": [
    "print(len(all_words_from_spam))\n",
    "print(len(all_words_from_easy_ham))"
   ]
  },
  {
   "cell_type": "code",
   "execution_count": 14,
   "metadata": {
    "collapsed": true
   },
   "outputs": [],
   "source": [
    "\n",
    "dictionary  = GetNewEmptyDictionary(words)\n",
    "dictionary_ = GetUniqueDictionary(spam_email_list, spam_folder_path)\n",
    "dictionary_ = GetUniqueDictionary(easy_ham_email_list, easy_ham_folder_path)"
   ]
  },
  {
   "cell_type": "code",
   "execution_count": 15,
   "metadata": {
    "collapsed": false
   },
   "outputs": [
    {
     "name": "stdout",
     "output_type": "stream",
     "text": [
      "[('2002', 3457), ('received:', 2350), ('=', 2243), ('sep', 2078), ('id', 1543), ('+0100', 1469), ('aug', 1142), ('esmtp', 1090), ('localhost', 936), ('-', 826), ('will', 825), ('(ist)', 741), ('content-type:', 630), ('(postfix)', 577), ('helvetica,', 575), ('to:', 554), ('from:', 540), ('mon,', 536), ('[127.0.0.1])', 526), ('return-path:', 520), ('date:', 511), ('subject:', 509), ('can', 507), ('mv', 501), ('message-id:', 500), ('delivered-to:', 480), ('free', 467), ('zzzz@localhost', 460), ('(single-drop);', 460), ('(fetchmail-5.9.0)', 460), ('email', 453), ('fri,', 448), ('-0400', 443), ('1.0', 436), ('mime-version:', 432), ('please', 425), ('thu,', 421), ('get', 411), ('content-transfer-encoding:', 406), ('tue,', 397), ('smtp', 396), ('wed,', 382), ('dogma.slashnull.org', 376), ('26', 371), ('sans-serif\"', 369), ('(8.11.6/8.11.6)', 368), ('one', 368), ('>', 359), ('arial,', 358), ('money', 355), ('webnote.net', 354), ('[127.0.0.1]', 353), ('new', 353), ('imap', 341), ('people', 340), ('make', 319), ('receive', 306), ('(8.9.3/8.9.3)', 305), ('23', 305), ('just', 301), ('microsoft', 297), ('width=3d\"100%\"', 297), ('business', 291), ('send', 279), ('3', 277), ('(edt)', 272), ('e-mail', 261), ('charset=\"iso-8859-1\"', 259), ('x-mailer:', 258), ('report', 258), ('zzzzason.org', 254), ('jalapeno', 253), ('zzzz@localhost.jmason.org', 253), ('(jalapeno', 252), ('sat,', 251), ('us', 249), ('2', 248), ('&', 247), ('time', 246), ('text/plain;', 238), ('24', 236), ('(localhost', 236), ('want', 235), ('name', 232), ('mail', 230), ('text/html;', 228), ('border=3d\"0\"', 227), ('reply-to:', 225), ('#', 225), ('click', 220), ('address', 216), ('de', 216), ('internet', 216), ('0px;', 209), ('zzzz@localhost.example.com', 207), ('phobos.labs.example.com', 207), ('22', 207), ('25', 207), ('information', 206), ('service', 205)]\n"
     ]
    }
   ],
   "source": [
    "# Most frequent 100 words from the spam emails\n",
    "\n",
    "import operator\n",
    "sorted_all_words_from_spam = sorted(all_words_from_spam.items(), key=operator.itemgetter(1), reverse = True)\n",
    "print(sorted_all_words_from_spam[0:100])"
   ]
  },
  {
   "cell_type": "code",
   "execution_count": 16,
   "metadata": {
    "collapsed": false
   },
   "outputs": [
    {
     "name": "stdout",
     "output_type": "stream",
     "text": [
      "[('2002', 20956), ('>', 19229), ('received:', 14170), ('id', 10482), ('sep', 10004), ('esmtp', 8684), ('+0100', 7526), ('oct', 5455), ('aug', 5174), ('localhost', 5142), ('[127.0.0.1])', 4628), ('(postfix)', 4530), ('(ist)', 4385), ('thu,', 3644), ('delivered-to:', 3496), ('date:', 3314), ('mon,', 3283), ('wed,', 3277), ('(8.11.6/8.11.6)', 3224), ('-0700', 3186), ('dogma.slashnull.org', 3113), ('from:', 2856), ('-0400', 2809), ('tue,', 2757), ('subject:', 2733), ('to:', 2673), ('message-id:', 2585), ('return-path:', 2552), ('(localhost', 2451), ('[127.0.0.1]', 2442), ('imap', 2426), ('(single-drop);', 2409), ('(fetchmail-5.9.0)', 2409), ('content-type:', 2376), ('fork-admin@xent.com', 2174), ('no,', 2169), ('xent.com', 2124), ('x-spam-status:', 2116), ('x-spam-level:', 2114), ('text/plain;', 2104), ('fri,', 2094), ('jm@localhost', 2068), ('list', 1952), ('jalapeno', 1838), ('-0000', 1816), ('(jalapeno', 1814), ('fork@example.com', 1772), ('(pdt)', 1743), ('precedence:', 1735), ('-', 1734), ('jmason.org', 1708), ('yyyy@localhost.example.com', 1699), ('version=2.50-cvs', 1679), ('bulk', 1663), ('--', 1606), ('list-unsubscribe:', 1606), ('sender:', 1575), ('list-id:', 1567), ('can', 1550), ('1.0', 1543), ('errors-to:', 1537), ('x-mailman-version:', 1536), ('x-beenthere:', 1536), ('28', 1520), ('mime-version:', 1519), ('list-subscribe:', 1517), ('list-post:', 1514), ('list-help:', 1514), ('re:', 1474), ('list-archive:', 1467), ('26', 1408), ('will', 1368), ('(edt)', 1346), ('22', 1280), ('required=5.0', 1227), ('just', 1225), ('23', 1204), ('use', 1202), ('2', 1131), ('get', 1090), ('one', 1086), ('smtp', 1079), ('+0200', 1059), ('like', 1047), ('in-reply-to:', 1046), ('>>', 1041), ('3', 1010), ('mailing', 1002), ('content-transfer-encoding:', 986), ('new', 978), ('9', 954), ('2.0.11', 941), ('(exim', 935), ('8', 899), ('required=7.0', 889), ('6', 868), ('x-mailer:', 829), ('29', 813), ('friends', 803), ('_______________________________________________', 802)]\n"
     ]
    }
   ],
   "source": [
    "# Most frequent 100 words from the easy-ham emails\n",
    "\n",
    "import operator\n",
    "sorted_all_words_from_easy_ham = sorted(all_words_from_easy_ham.items(), key=operator.itemgetter(1), reverse = True)\n",
    "print(sorted_all_words_from_easy_ham[0:100])"
   ]
  },
  {
   "cell_type": "code",
   "execution_count": null,
   "metadata": {
    "collapsed": false
   },
   "outputs": [],
   "source": [
    "print(spam_folder_path)\n",
    "print(len(words))"
   ]
  },
  {
   "cell_type": "code",
   "execution_count": null,
   "metadata": {
    "collapsed": false
   },
   "outputs": [],
   "source": [
    "len(words)"
   ]
  },
  {
   "cell_type": "code",
   "execution_count": null,
   "metadata": {
    "collapsed": false
   },
   "outputs": [],
   "source": [
    "for key, value in dictionary_['0001.bfc8d64d12b325ff385cca8d07b84288'].items():\n",
    "    if value > 0:\n",
    "        print(key, value)"
   ]
  },
  {
   "cell_type": "code",
   "execution_count": 17,
   "metadata": {
    "collapsed": false
   },
   "outputs": [
    {
     "data": {
      "text/plain": [
       "86108"
      ]
     },
     "execution_count": 17,
     "metadata": {},
     "output_type": "execute_result"
    }
   ],
   "source": [
    "len(sorted_all_words_from_easy_ham)"
   ]
  },
  {
   "cell_type": "code",
   "execution_count": 18,
   "metadata": {
    "collapsed": false
   },
   "outputs": [
    {
     "data": {
      "text/plain": [
       "42668"
      ]
     },
     "execution_count": 18,
     "metadata": {},
     "output_type": "execute_result"
    }
   ],
   "source": [
    "len(sorted_all_words_from_spam)"
   ]
  },
  {
   "cell_type": "code",
   "execution_count": null,
   "metadata": {
    "collapsed": true
   },
   "outputs": [],
   "source": []
  }
 ],
 "metadata": {
  "kernelspec": {
   "display_name": "Python 3",
   "language": "python",
   "name": "python3"
  },
  "language_info": {
   "codemirror_mode": {
    "name": "ipython",
    "version": 3
   },
   "file_extension": ".py",
   "mimetype": "text/x-python",
   "name": "python",
   "nbconvert_exporter": "python",
   "pygments_lexer": "ipython3",
   "version": "3.5.1"
  }
 },
 "nbformat": 4,
 "nbformat_minor": 0
}
